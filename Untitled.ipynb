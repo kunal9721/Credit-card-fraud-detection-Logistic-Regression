{
 "cells": [
  {
   "cell_type": "code",
   "execution_count": 9,
   "metadata": {},
   "outputs": [],
   "source": [
    "import pandas as pd\n",
    "import os\n",
    "import numpy as np \n",
    "import seaborn as sns\n",
    "import sklearn \n",
    "import matplotlib.pyplot as plt\n",
    "from sklearn.model_selection import train_test_split\n",
    "from sklearn import preprocessing\n",
    "from sklearn.preprocessing import LabelEncoder\n",
    "%matplotlib inline"
   ]
  },
  {
   "cell_type": "code",
   "execution_count": 10,
   "metadata": {},
   "outputs": [],
   "source": [
    "os.chdir(\"C:/Users/Lenovo/Desktop/python project/project 1\")"
   ]
  },
  {
   "cell_type": "code",
   "execution_count": 13,
   "metadata": {},
   "outputs": [],
   "source": [
    "df= pd.read_csv(\"UCI_Credit_Card_new.csv\")\n"
   ]
  },
  {
   "cell_type": "code",
   "execution_count": 18,
   "metadata": {
    "scrolled": true
   },
   "outputs": [
    {
     "name": "stdout",
     "output_type": "stream",
     "text": [
      "(30000, 25)\n",
      "   ID  LIMIT_BAL     SEX   EDUCATION MARRIAGE   AGE  PAY_0  PAY_2  PAY_3  \\\n",
      "0   1      20000  female  university  married  24.0      2      2     -1   \n",
      "1   2     120000  female  university   single  26.0     -1      2      0   \n",
      "2   3      90000  female  university   single  34.0      0      0      0   \n",
      "3   4      50000     NaN  university  married  37.0      0      0      0   \n",
      "4   5      50000    male  university  married  57.0     -1      0     -1   \n",
      "\n",
      "   PAY_4             ...              BILL_AMT4  BILL_AMT5  BILL_AMT6  \\\n",
      "0     -1             ...                    0.0          0        0.0   \n",
      "1      0             ...                 3272.0       3455     3261.0   \n",
      "2      0             ...                14331.0      14948    15549.0   \n",
      "3      0             ...                28314.0      28959    29547.0   \n",
      "4      0             ...                20940.0      19146    19131.0   \n",
      "\n",
      "   PAY_AMT1  PAY_AMT2  PAY_AMT3  PAY_AMT4  PAY_AMT5  PAY_AMT6  \\\n",
      "0         0       689       0.0         0         0         0   \n",
      "1         0      1000    1000.0      1000         0      2000   \n",
      "2      1518      1500    1000.0      1000      1000      5000   \n",
      "3      2000      2019    1200.0      1100      1069      1000   \n",
      "4      2000     36681   10000.0      9000       689       679   \n",
      "\n",
      "   default.payment.next.month  \n",
      "0                           1  \n",
      "1                           1  \n",
      "2                           0  \n",
      "3                           0  \n",
      "4                           0  \n",
      "\n",
      "[5 rows x 25 columns]\n"
     ]
    }
   ],
   "source": [
    "print(df.shape)\n",
    "print(df.head())\n"
   ]
  },
  {
   "cell_type": "code",
   "execution_count": 17,
   "metadata": {},
   "outputs": [
    {
     "name": "stdout",
     "output_type": "stream",
     "text": [
      "<class 'pandas.core.frame.DataFrame'>\n",
      "RangeIndex: 30000 entries, 0 to 29999\n",
      "Data columns (total 25 columns):\n",
      "ID                            30000 non-null int64\n",
      "LIMIT_BAL                     30000 non-null int64\n",
      "SEX                           29887 non-null object\n",
      "EDUCATION                     29839 non-null object\n",
      "MARRIAGE                      29895 non-null object\n",
      "AGE                           29907 non-null float64\n",
      "PAY_0                         30000 non-null int64\n",
      "PAY_2                         30000 non-null int64\n",
      "PAY_3                         30000 non-null int64\n",
      "PAY_4                         30000 non-null int64\n",
      "PAY_5                         30000 non-null int64\n",
      "PAY_6                         30000 non-null int64\n",
      "BILL_AMT1                     30000 non-null int64\n",
      "BILL_AMT2                     30000 non-null int64\n",
      "BILL_AMT3                     30000 non-null int64\n",
      "BILL_AMT4                     29979 non-null float64\n",
      "BILL_AMT5                     30000 non-null int64\n",
      "BILL_AMT6                     29984 non-null float64\n",
      "PAY_AMT1                      30000 non-null int64\n",
      "PAY_AMT2                      30000 non-null int64\n",
      "PAY_AMT3                      29982 non-null float64\n",
      "PAY_AMT4                      30000 non-null int64\n",
      "PAY_AMT5                      30000 non-null int64\n",
      "PAY_AMT6                      30000 non-null int64\n",
      "default.payment.next.month    30000 non-null int64\n",
      "dtypes: float64(4), int64(18), object(3)\n",
      "memory usage: 5.7+ MB\n"
     ]
    }
   ],
   "source": [
    "df.info()\n"
   ]
  },
  {
   "cell_type": "code",
   "execution_count": 21,
   "metadata": {},
   "outputs": [],
   "source": [
    "df = df.drop_duplicates(keep='first')"
   ]
  },
  {
   "cell_type": "code",
   "execution_count": 22,
   "metadata": {},
   "outputs": [
    {
     "name": "stdout",
     "output_type": "stream",
     "text": [
      "<class 'pandas.core.frame.DataFrame'>\n",
      "Int64Index: 30000 entries, 0 to 29999\n",
      "Data columns (total 25 columns):\n",
      "ID                            30000 non-null int64\n",
      "LIMIT_BAL                     30000 non-null int64\n",
      "SEX                           29887 non-null object\n",
      "EDUCATION                     29839 non-null object\n",
      "MARRIAGE                      29895 non-null object\n",
      "AGE                           29907 non-null float64\n",
      "PAY_0                         30000 non-null int64\n",
      "PAY_2                         30000 non-null int64\n",
      "PAY_3                         30000 non-null int64\n",
      "PAY_4                         30000 non-null int64\n",
      "PAY_5                         30000 non-null int64\n",
      "PAY_6                         30000 non-null int64\n",
      "BILL_AMT1                     30000 non-null int64\n",
      "BILL_AMT2                     30000 non-null int64\n",
      "BILL_AMT3                     30000 non-null int64\n",
      "BILL_AMT4                     29979 non-null float64\n",
      "BILL_AMT5                     30000 non-null int64\n",
      "BILL_AMT6                     29984 non-null float64\n",
      "PAY_AMT1                      30000 non-null int64\n",
      "PAY_AMT2                      30000 non-null int64\n",
      "PAY_AMT3                      29982 non-null float64\n",
      "PAY_AMT4                      30000 non-null int64\n",
      "PAY_AMT5                      30000 non-null int64\n",
      "PAY_AMT6                      30000 non-null int64\n",
      "default.payment.next.month    30000 non-null int64\n",
      "dtypes: float64(4), int64(18), object(3)\n",
      "memory usage: 6.0+ MB\n"
     ]
    }
   ],
   "source": [
    "df.info()"
   ]
  },
  {
   "cell_type": "code",
   "execution_count": 24,
   "metadata": {},
   "outputs": [
    {
     "name": "stdout",
     "output_type": "stream",
     "text": [
      "ID                              0\n",
      "LIMIT_BAL                       0\n",
      "SEX                           113\n",
      "EDUCATION                     161\n",
      "MARRIAGE                      105\n",
      "AGE                            93\n",
      "PAY_0                           0\n",
      "PAY_2                           0\n",
      "PAY_3                           0\n",
      "PAY_4                           0\n",
      "PAY_5                           0\n",
      "PAY_6                           0\n",
      "BILL_AMT1                       0\n",
      "BILL_AMT2                       0\n",
      "BILL_AMT3                       0\n",
      "BILL_AMT4                      21\n",
      "BILL_AMT5                       0\n",
      "BILL_AMT6                      16\n",
      "PAY_AMT1                        0\n",
      "PAY_AMT2                        0\n",
      "PAY_AMT3                       18\n",
      "PAY_AMT4                        0\n",
      "PAY_AMT5                        0\n",
      "PAY_AMT6                        0\n",
      "default.payment.next.month      0\n",
      "dtype: int64\n"
     ]
    }
   ],
   "source": [
    "mis_val=df.isnull().sum()\n",
    "print(mis_val)"
   ]
  },
  {
   "cell_type": "code",
   "execution_count": null,
   "metadata": {},
   "outputs": [],
   "source": []
  }
 ],
 "metadata": {
  "kernelspec": {
   "display_name": "Python 3",
   "language": "python",
   "name": "python3"
  },
  "language_info": {
   "codemirror_mode": {
    "name": "ipython",
    "version": 3
   },
   "file_extension": ".py",
   "mimetype": "text/x-python",
   "name": "python",
   "nbconvert_exporter": "python",
   "pygments_lexer": "ipython3",
   "version": "3.6.5"
  }
 },
 "nbformat": 4,
 "nbformat_minor": 2
}
