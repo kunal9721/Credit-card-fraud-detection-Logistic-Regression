{
 "cells": [
  {
   "cell_type": "code",
   "execution_count": 1,
   "metadata": {},
   "outputs": [],
   "source": [
    "#Considering all columns with categoricalimputation and neumerical impution based on mean"
   ]
  },
  {
   "cell_type": "code",
   "execution_count": 1,
   "metadata": {},
   "outputs": [
    {
     "name": "stderr",
     "output_type": "stream",
     "text": [
      "C:\\Users\\Lenovo\\Anaconda3\\lib\\site-packages\\sklearn\\externals\\six.py:31: DeprecationWarning: The module is deprecated in version 0.21 and will be removed in version 0.23 since we've dropped support for Python 2.7. Please rely on the official version of six (https://pypi.org/project/six/).\n",
      "  \"(https://pypi.org/project/six/).\", DeprecationWarning)\n"
     ]
    }
   ],
   "source": [
    "import pandas as pd\n",
    "import numpy as np \n",
    "import seaborn as sns\n",
    "import sklearn \n",
    "import matplotlib.pyplot as plt\n",
    "from sklearn.model_selection import train_test_split\n",
    "from sklearn import preprocessing\n",
    "from sklearn.impute import SimpleImputer\n",
    "from sklearn.preprocessing import LabelEncoder\n",
    "# Import model\n",
    "from sklearn.linear_model import LogisticRegression\n",
    "from sklearn.svm import SVC\n",
    "from sklearn.neighbors import KNeighborsClassifier\n",
    "from sklearn.tree import DecisionTreeClassifier\n",
    "from sklearn.ensemble import RandomForestClassifier\n",
    "from xgboost import XGBClassifier\n",
    "from sklearn.model_selection import train_test_split\n",
    "from imblearn.over_sampling import SMOTE\n",
    "from sklearn.metrics import classification_report, confusion_matrix, accuracy_score,f1_score, precision_score, recall_score,roc_auc_score,roc_curve"
   ]
  },
  {
   "cell_type": "code",
   "execution_count": 2,
   "metadata": {},
   "outputs": [
    {
     "name": "stdout",
     "output_type": "stream",
     "text": [
      "(30000, 25)\n",
      "    ID  LIMIT_BAL     SEX        EDUCATION MARRIAGE   AGE  PAY_0  PAY_2  \\\n",
      "0    1      20000  female       university  married  24.0      2      2   \n",
      "1    2     120000  female       university   single  26.0     -1      2   \n",
      "2    3      90000  female       university   single  34.0      0      0   \n",
      "3    4      50000     NaN       university  married  37.0      0      0   \n",
      "4    5      50000    male       university  married  57.0     -1      0   \n",
      "5    6      50000    male  graduate school   single  37.0      0      0   \n",
      "6    7     500000    male  graduate school   single  29.0      0      0   \n",
      "7    8     100000     NaN       university   single  23.0      0     -1   \n",
      "8    9     140000     NaN      high school  married  28.0      0      0   \n",
      "9   10      20000    male      high school      NaN  35.0     -2     -2   \n",
      "10  11     200000     NaN      high school      NaN  34.0      0      0   \n",
      "11  12     260000     NaN  graduate school      NaN  51.0     -1     -1   \n",
      "12  13     630000     NaN       university      NaN  41.0     -1      0   \n",
      "13  14      70000    male       university      NaN  30.0      1      2   \n",
      "14  15     250000    male  graduate school      NaN  29.0      0      0   \n",
      "15  16      50000     NaN      high school   others  23.0      1      2   \n",
      "16  17      20000    male  graduate school      NaN  24.0      0      0   \n",
      "17  18     320000    male  graduate school  married  49.0      0      0   \n",
      "18  19     360000     NaN  graduate school  married  49.0      1     -2   \n",
      "19  20     180000     NaN  graduate school      NaN  29.0      1     -2   \n",
      "\n",
      "    PAY_3  PAY_4             ...              BILL_AMT4  BILL_AMT5  BILL_AMT6  \\\n",
      "0      -1     -1             ...                    0.0          0        0.0   \n",
      "1       0      0             ...                 3272.0       3455     3261.0   \n",
      "2       0      0             ...                14331.0      14948    15549.0   \n",
      "3       0      0             ...                28314.0      28959    29547.0   \n",
      "4      -1      0             ...                20940.0      19146    19131.0   \n",
      "5       0      0             ...                19394.0      19619    20024.0   \n",
      "6       0      0             ...               542653.0     483003   473944.0   \n",
      "7      -1      0             ...                  221.0       -159      567.0   \n",
      "8       2      0             ...                12211.0      11793     3719.0   \n",
      "9      -2     -2             ...                    0.0      13007    13912.0   \n",
      "10      2      0             ...                 2513.0       1828     3731.0   \n",
      "11     -1     -1             ...                 8517.0      22287    13668.0   \n",
      "12     -1     -1             ...                 6500.0       6500     2870.0   \n",
      "13      2      0             ...                66782.0      36137    36894.0   \n",
      "14      0      0             ...                59696.0      56875    55512.0   \n",
      "15      0      0             ...                28771.0      29531    30211.0   \n",
      "16      2      2             ...                18338.0      17905    19104.0   \n",
      "17      0     -1             ...                70074.0       5856   195599.0   \n",
      "18     -2     -2             ...                    0.0          0        0.0   \n",
      "19     -2     -2             ...                    0.0          0        0.0   \n",
      "\n",
      "    PAY_AMT1  PAY_AMT2  PAY_AMT3  PAY_AMT4  PAY_AMT5  PAY_AMT6  \\\n",
      "0          0       689       0.0         0         0         0   \n",
      "1          0      1000    1000.0      1000         0      2000   \n",
      "2       1518      1500    1000.0      1000      1000      5000   \n",
      "3       2000      2019    1200.0      1100      1069      1000   \n",
      "4       2000     36681   10000.0      9000       689       679   \n",
      "5       2500      1815     657.0      1000      1000       800   \n",
      "6      55000     40000   38000.0     20239     13750     13770   \n",
      "7        380       601       0.0       581      1687      1542   \n",
      "8       3329         0     432.0      1000      1000      1000   \n",
      "9          0         0       0.0     13007      1122         0   \n",
      "10      2306        12      50.0       300      3738        66   \n",
      "11     21818      9966    8583.0     22301         0      3640   \n",
      "12      1000      6500    6500.0      6500      2870         0   \n",
      "13      3200         0    3000.0      3000      1500         0   \n",
      "14      3000      3000    3000.0      3000      3000      3000   \n",
      "15         0      1500    1100.0      1200      1300      1100   \n",
      "16      3200         0    1500.0         0      1650         0   \n",
      "17     10358     10000   75940.0     20000    195599     50000   \n",
      "18         0         0       0.0         0         0         0   \n",
      "19         0         0       0.0         0         0         0   \n",
      "\n",
      "    default.payment.next.month  \n",
      "0                            1  \n",
      "1                            1  \n",
      "2                            0  \n",
      "3                            0  \n",
      "4                            0  \n",
      "5                            0  \n",
      "6                            0  \n",
      "7                            0  \n",
      "8                            0  \n",
      "9                            0  \n",
      "10                           0  \n",
      "11                           0  \n",
      "12                           0  \n",
      "13                           1  \n",
      "14                           0  \n",
      "15                           0  \n",
      "16                           1  \n",
      "17                           0  \n",
      "18                           0  \n",
      "19                           0  \n",
      "\n",
      "[20 rows x 25 columns]\n"
     ]
    }
   ],
   "source": [
    "#Reading Application train csv\n",
    "data_df = pd.read_csv(\"UCI_Credit_Card_new.csv\")\n",
    "print(data_df.shape)\n",
    "print(data_df.head(20))"
   ]
  },
  {
   "cell_type": "code",
   "execution_count": 3,
   "metadata": {},
   "outputs": [
    {
     "name": "stdout",
     "output_type": "stream",
     "text": [
      "   ID  LIMIT_BAL     SEX   EDUCATION MARRIAGE   AGE  PAY_0  PAY_2  PAY_3  \\\n",
      "0   1      20000  female  university  married  24.0      2      2     -1   \n",
      "1   2     120000  female  university   single  26.0     -1      2      0   \n",
      "2   3      90000  female  university   single  34.0      0      0      0   \n",
      "3   4      50000     NaN  university  married  37.0      0      0      0   \n",
      "4   5      50000    male  university  married  57.0     -1      0     -1   \n",
      "\n",
      "   PAY_4   ...     BILL_AMT4  BILL_AMT5  BILL_AMT6  PAY_AMT1  PAY_AMT2  \\\n",
      "0     -1   ...           0.0          0        0.0         0       689   \n",
      "1      0   ...        3272.0       3455     3261.0         0      1000   \n",
      "2      0   ...       14331.0      14948    15549.0      1518      1500   \n",
      "3      0   ...       28314.0      28959    29547.0      2000      2019   \n",
      "4      0   ...       20940.0      19146    19131.0      2000     36681   \n",
      "\n",
      "   PAY_AMT3  PAY_AMT4  PAY_AMT5  PAY_AMT6  default  \n",
      "0       0.0         0         0         0        1  \n",
      "1    1000.0      1000         0      2000        1  \n",
      "2    1000.0      1000      1000      5000        0  \n",
      "3    1200.0      1100      1069      1000        0  \n",
      "4   10000.0      9000       689       679        0  \n",
      "\n",
      "[5 rows x 25 columns]\n"
     ]
    }
   ],
   "source": [
    "#Rename column\n",
    "data_df = data_df.rename(columns={'default.payment.next.month': 'default'})\n",
    "print(data_df.head())"
   ]
  },
  {
   "cell_type": "code",
   "execution_count": 4,
   "metadata": {},
   "outputs": [
    {
     "name": "stdout",
     "output_type": "stream",
     "text": [
      "0    23364\n",
      "1     6636\n",
      "Name: default, dtype: int64\n"
     ]
    },
    {
     "data": {
      "text/plain": [
       "<matplotlib.axes._subplots.AxesSubplot at 0x12a63be1320>"
      ]
     },
     "execution_count": 4,
     "metadata": {},
     "output_type": "execute_result"
    },
    {
     "data": {
      "image/png": "[encoded data removed]",
      "text/plain": [
       "<Figure size 432x288 with 1 Axes>"
      ]
     },
     "metadata": {},
     "output_type": "display_data"
    }
   ],
   "source": [
    "#Let us analyze Target column\n",
    "print(data_df['default'].value_counts())\n",
    "data_df['default'].astype(int).plot.hist()"
   ]
  },
  {
   "cell_type": "code",
   "execution_count": 5,
   "metadata": {},
   "outputs": [
    {
     "name": "stdout",
     "output_type": "stream",
     "text": [
      "ID             0\n",
      "LIMIT_BAL      0\n",
      "SEX          113\n",
      "EDUCATION    161\n",
      "MARRIAGE     105\n",
      "AGE           93\n",
      "PAY_0          0\n",
      "PAY_2          0\n",
      "PAY_3          0\n",
      "PAY_4          0\n",
      "PAY_5          0\n",
      "PAY_6          0\n",
      "BILL_AMT1      0\n",
      "BILL_AMT2      0\n",
      "BILL_AMT3      0\n",
      "BILL_AMT4     21\n",
      "BILL_AMT5      0\n",
      "BILL_AMT6     16\n",
      "PAY_AMT1       0\n",
      "PAY_AMT2       0\n",
      "PAY_AMT3      18\n",
      "PAY_AMT4       0\n",
      "PAY_AMT5       0\n",
      "PAY_AMT6       0\n",
      "default        0\n",
      "dtype: int64\n"
     ]
    }
   ],
   "source": [
    "#We can see clearly its a class imbalance problem.\n",
    "#Now analyze missing value\n",
    "mis_val = data_df.isnull().sum()\n",
    "print(mis_val)\n",
    "#writing the outcome to csv to analyze further\n",
    "mis_val.to_csv('case2_missing.csv')"
   ]
  },
  {
   "cell_type": "code",
   "execution_count": 6,
   "metadata": {},
   "outputs": [
    {
     "name": "stdout",
     "output_type": "stream",
     "text": [
      "int64      18\n",
      "float64     4\n",
      "object      3\n",
      "dtype: int64\n"
     ]
    }
   ],
   "source": [
    "# Number of each type of column\n",
    "print(data_df.dtypes.value_counts())"
   ]
  },
  {
   "cell_type": "code",
   "execution_count": 7,
   "metadata": {},
   "outputs": [
    {
     "name": "stdout",
     "output_type": "stream",
     "text": [
      "Index(['SEX', 'EDUCATION', 'MARRIAGE'], dtype='object')\n",
      "Index(['ID', 'LIMIT_BAL', 'PAY_0', 'PAY_2', 'PAY_3', 'PAY_4', 'PAY_5', 'PAY_6',\n",
      "       'BILL_AMT1', 'BILL_AMT2', 'BILL_AMT3', 'BILL_AMT5', 'PAY_AMT1',\n",
      "       'PAY_AMT2', 'PAY_AMT4', 'PAY_AMT5', 'PAY_AMT6', 'default'],\n",
      "      dtype='object')\n",
      "Index(['AGE', 'BILL_AMT4', 'BILL_AMT6', 'PAY_AMT3'], dtype='object')\n"
     ]
    }
   ],
   "source": [
    "print(data_df.select_dtypes('object').columns)\n",
    "print(data_df.select_dtypes('int64').columns)\n",
    "print(data_df.select_dtypes('float64').columns)"
   ]
  },
  {
   "cell_type": "code",
   "execution_count": 8,
   "metadata": {},
   "outputs": [
    {
     "name": "stdout",
     "output_type": "stream",
     "text": [
      "SEX\n",
      "EDUCATION\n",
      "MARRIAGE\n"
     ]
    }
   ],
   "source": [
    "#Categorical imputer\n",
    "imp=SimpleImputer(missing_values=\"NaN\", strategy=\"most_frequent\" )\n",
    "#cat_col_names=app_train_df.select_dtypes('object').columns\n",
    "cat_col_names=['SEX', 'EDUCATION', 'MARRIAGE']\n",
    "for name in cat_col_names:\n",
    "    print(name)\n",
    "    data_df[name]=imp.fit_transform(data_df[[name]].astype(str)).ravel()"
   ]
  },
  {
   "cell_type": "code",
   "execution_count": 9,
   "metadata": {},
   "outputs": [
    {
     "name": "stdout",
     "output_type": "stream",
     "text": [
      "ID            0\n",
      "LIMIT_BAL     0\n",
      "SEX           0\n",
      "EDUCATION     0\n",
      "MARRIAGE      0\n",
      "AGE          93\n",
      "PAY_0         0\n",
      "PAY_2         0\n",
      "PAY_3         0\n",
      "PAY_4         0\n",
      "PAY_5         0\n",
      "PAY_6         0\n",
      "BILL_AMT1     0\n",
      "BILL_AMT2     0\n",
      "BILL_AMT3     0\n",
      "BILL_AMT4    21\n",
      "BILL_AMT5     0\n",
      "BILL_AMT6    16\n",
      "PAY_AMT1      0\n",
      "PAY_AMT2      0\n",
      "PAY_AMT3     18\n",
      "PAY_AMT4      0\n",
      "PAY_AMT5      0\n",
      "PAY_AMT6      0\n",
      "default       0\n",
      "dtype: int64\n"
     ]
    }
   ],
   "source": [
    "#Now analyze missing value\n",
    "mis_val = data_df.isnull().sum()\n",
    "print(mis_val)\n",
    "#writing the outcome to csv to analyze further\n",
    "mis_val.to_csv('case2_missing_after_cat_impute.csv')"
   ]
  },
  {
   "cell_type": "code",
   "execution_count": 10,
   "metadata": {},
   "outputs": [
    {
     "data": {
      "text/plain": [
       "Index(['ID', 'LIMIT_BAL', 'AGE', 'PAY_0', 'PAY_2', 'PAY_3', 'PAY_4', 'PAY_5',\n",
       "       'PAY_6', 'BILL_AMT1', 'BILL_AMT2', 'BILL_AMT3', 'BILL_AMT4',\n",
       "       'BILL_AMT5', 'BILL_AMT6', 'PAY_AMT1', 'PAY_AMT2', 'PAY_AMT3',\n",
       "       'PAY_AMT4', 'PAY_AMT5', 'PAY_AMT6', 'default'],\n",
       "      dtype='object')"
      ]
     },
     "execution_count": 10,
     "metadata": {},
     "output_type": "execute_result"
    }
   ],
   "source": [
    "data_df.select_dtypes(exclude='object').columns"
   ]
  },
  {
   "cell_type": "code",
   "execution_count": 11,
   "metadata": {},
   "outputs": [
    {
     "name": "stdout",
     "output_type": "stream",
     "text": [
      "AGE\n",
      "BILL_AMT4\n",
      "BILL_AMT6\n",
      "PAY_AMT3\n"
     ]
    }
   ],
   "source": [
    "#Neumerical imputer\n",
    "neum_cols=['AGE','BILL_AMT4','BILL_AMT6','PAY_AMT3']\n",
    "neum_imp = SimpleImputer(missing_values=np.NaN, strategy='mean')\n",
    "for name in neum_cols:\n",
    "    print(name)\n",
    "    data_df[name]=neum_imp.fit_transform(data_df[[name]]).ravel()"
   ]
  },
  {
   "cell_type": "code",
   "execution_count": 12,
   "metadata": {},
   "outputs": [
    {
     "name": "stdout",
     "output_type": "stream",
     "text": [
      "ID           0\n",
      "LIMIT_BAL    0\n",
      "SEX          0\n",
      "EDUCATION    0\n",
      "MARRIAGE     0\n",
      "AGE          0\n",
      "PAY_0        0\n",
      "PAY_2        0\n",
      "PAY_3        0\n",
      "PAY_4        0\n",
      "PAY_5        0\n",
      "PAY_6        0\n",
      "BILL_AMT1    0\n",
      "BILL_AMT2    0\n",
      "BILL_AMT3    0\n",
      "BILL_AMT4    0\n",
      "BILL_AMT5    0\n",
      "BILL_AMT6    0\n",
      "PAY_AMT1     0\n",
      "PAY_AMT2     0\n",
      "PAY_AMT3     0\n",
      "PAY_AMT4     0\n",
      "PAY_AMT5     0\n",
      "PAY_AMT6     0\n",
      "default      0\n",
      "dtype: int64\n"
     ]
    }
   ],
   "source": [
    "#Now analyze missing value\n",
    "mis_val = data_df.isnull().sum()\n",
    "print(mis_val)\n",
    "#writing the outcome to csv to analyze further\n",
    "mis_val.to_csv('case2_missing_after_neum_impute.csv')"
   ]
  },
  {
   "cell_type": "code",
   "execution_count": 13,
   "metadata": {},
   "outputs": [
    {
     "name": "stdout",
     "output_type": "stream",
     "text": [
      "   ID  LIMIT_BAL     SEX   EDUCATION MARRIAGE   AGE  PAY_0  PAY_2  PAY_3  \\\n",
      "0   1      20000  female  university  married  24.0      2      2     -1   \n",
      "1   2     120000  female  university   single  26.0     -1      2      0   \n",
      "2   3      90000  female  university   single  34.0      0      0      0   \n",
      "3   4      50000     nan  university  married  37.0      0      0      0   \n",
      "4   5      50000    male  university  married  57.0     -1      0     -1   \n",
      "\n",
      "   PAY_4   ...     BILL_AMT4  BILL_AMT5  BILL_AMT6  PAY_AMT1  PAY_AMT2  \\\n",
      "0     -1   ...           0.0          0        0.0         0       689   \n",
      "1      0   ...        3272.0       3455     3261.0         0      1000   \n",
      "2      0   ...       14331.0      14948    15549.0      1518      1500   \n",
      "3      0   ...       28314.0      28959    29547.0      2000      2019   \n",
      "4      0   ...       20940.0      19146    19131.0      2000     36681   \n",
      "\n",
      "   PAY_AMT3  PAY_AMT4  PAY_AMT5  PAY_AMT6  default  \n",
      "0       0.0         0         0         0        1  \n",
      "1    1000.0      1000         0      2000        1  \n",
      "2    1000.0      1000      1000      5000        0  \n",
      "3    1200.0      1100      1069      1000        0  \n",
      "4   10000.0      9000       689       679        0  \n",
      "\n",
      "[5 rows x 25 columns]\n"
     ]
    }
   ],
   "source": [
    "# verifying categories before encoding app_train_df.select_dtypes('object').columns\n",
    "print(data_df.head())"
   ]
  },
  {
   "cell_type": "code",
   "execution_count": 14,
   "metadata": {},
   "outputs": [
    {
     "name": "stdout",
     "output_type": "stream",
     "text": [
      "SEX\n",
      "EDUCATION\n",
      "MARRIAGE\n",
      "   ID  LIMIT_BAL  SEX  EDUCATION  MARRIAGE   AGE  PAY_0  PAY_2  PAY_3  PAY_4  \\\n",
      "0   1      20000    0          4         0  24.0      2      2     -1     -1   \n",
      "1   2     120000    0          4         3  26.0     -1      2      0      0   \n",
      "2   3      90000    0          4         3  34.0      0      0      0      0   \n",
      "3   4      50000    2          4         0  37.0      0      0      0      0   \n",
      "4   5      50000    1          4         0  57.0     -1      0     -1      0   \n",
      "\n",
      "    ...     BILL_AMT4  BILL_AMT5  BILL_AMT6  PAY_AMT1  PAY_AMT2  PAY_AMT3  \\\n",
      "0   ...           0.0          0        0.0         0       689       0.0   \n",
      "1   ...        3272.0       3455     3261.0         0      1000    1000.0   \n",
      "2   ...       14331.0      14948    15549.0      1518      1500    1000.0   \n",
      "3   ...       28314.0      28959    29547.0      2000      2019    1200.0   \n",
      "4   ...       20940.0      19146    19131.0      2000     36681   10000.0   \n",
      "\n",
      "   PAY_AMT4  PAY_AMT5  PAY_AMT6  default  \n",
      "0         0         0         0        1  \n",
      "1      1000         0      2000        1  \n",
      "2      1000      1000      5000        0  \n",
      "3      1100      1069      1000        0  \n",
      "4      9000       689       679        0  \n",
      "\n",
      "[5 rows x 25 columns]\n"
     ]
    }
   ],
   "source": [
    "#Label encoding\n",
    "#Encoding category columns\n",
    "cat_labelencoder = LabelEncoder()\n",
    "cat_col_names=data_df.select_dtypes('object').columns\n",
    "for name in cat_col_names:\n",
    "    print(name)\n",
    "    data_df[name]=cat_labelencoder.fit_transform(data_df[name])\n",
    "print(data_df.head())"
   ]
  },
  {
   "cell_type": "code",
   "execution_count": 15,
   "metadata": {},
   "outputs": [
    {
     "name": "stdout",
     "output_type": "stream",
     "text": [
      "(30000, 23)\n",
      "(30000, 1)\n"
     ]
    }
   ],
   "source": [
    "X = pd.DataFrame(data_df.drop(['default','ID'], axis=1))\n",
    "y = pd.DataFrame(data_df['default'])\n",
    "print(X.shape)\n",
    "print(y.shape)"
   ]
  },
  {
   "cell_type": "code",
   "execution_count": 16,
   "metadata": {},
   "outputs": [
    {
     "name": "stdout",
     "output_type": "stream",
     "text": [
      "(24000, 23)\n",
      "(24000, 1)\n",
      "(6000, 23)\n",
      "(6000, 1)\n"
     ]
    }
   ],
   "source": [
    "#Train Test Split\n",
    "#Use X and y variables to split the training data into train and test set\n",
    "X_train, X_test, y_train, y_test = train_test_split(X, y, test_size = .20, random_state = 42)\n",
    "print (X_train.shape)\n",
    "print (y_train.shape)\n",
    "print (X_test.shape)\n",
    "print (y_test.shape)"
   ]
  },
  {
   "cell_type": "code",
   "execution_count": 17,
   "metadata": {},
   "outputs": [
    {
     "name": "stderr",
     "output_type": "stream",
     "text": [
      "C:\\Users\\Lenovo\\Anaconda3\\lib\\site-packages\\sklearn\\utils\\validation.py:724: DataConversionWarning: A column-vector y was passed when a 1d array was expected. Please change the shape of y to (n_samples, ), for example using ravel().\n",
      "  y = column_or_1d(y, warn=True)\n"
     ]
    },
    {
     "name": "stdout",
     "output_type": "stream",
     "text": [
      "After OverSampling, the shape of train_X: (37354, 23)\n",
      "After OverSampling, the shape of train_y: (37354,) \n",
      "\n",
      "After OverSampling, counts of label '1': 18677\n",
      "After OverSampling, counts of label '0': 18677\n"
     ]
    }
   ],
   "source": [
    "sm = SMOTE(random_state=2)\n",
    "X_train_res, y_train_res = sm.fit_sample(X_train, y_train)\n",
    "print('After OverSampling, the shape of train_X: {}'.format(X_train_res.shape))\n",
    "print('After OverSampling, the shape of train_y: {} \\n'.format(y_train_res.shape))\n",
    "\n",
    "print(\"After OverSampling, counts of label '1': {}\".format(sum(y_train_res==1)))\n",
    "print(\"After OverSampling, counts of label '0': {}\".format(sum(y_train_res==0)))"
   ]
  },
  {
   "cell_type": "code",
   "execution_count": 18,
   "metadata": {},
   "outputs": [
    {
     "name": "stdout",
     "output_type": "stream",
     "text": [
      "<class 'numpy.ndarray'>\n",
      "<class 'numpy.ndarray'>\n"
     ]
    }
   ],
   "source": [
    "print(type(X_train_res))\n",
    "print(type(y_train_res))"
   ]
  },
  {
   "cell_type": "code",
   "execution_count": 19,
   "metadata": {},
   "outputs": [
    {
     "name": "stdout",
     "output_type": "stream",
     "text": [
      "<class 'pandas.core.frame.DataFrame'>\n",
      "<class 'pandas.core.frame.DataFrame'>\n"
     ]
    }
   ],
   "source": [
    "X_train_res=pd.DataFrame(X_train_res,columns=X_train.columns)\n",
    "y_train_res=pd.DataFrame(y_train_res,columns=y_train.columns)\n",
    "print(type(X_train_res))\n",
    "print(type(y_train_res))"
   ]
  },
  {
   "cell_type": "code",
   "execution_count": 20,
   "metadata": {},
   "outputs": [],
   "source": [
    "X_train=X_train_res\n",
    "y_train=y_train_res"
   ]
  },
  {
   "cell_type": "code",
   "execution_count": 21,
   "metadata": {},
   "outputs": [
    {
     "name": "stdout",
     "output_type": "stream",
     "text": [
      "   LIMIT_BAL  SEX  EDUCATION  MARRIAGE        AGE  PAY_0  PAY_2  PAY_3  PAY_4  \\\n",
      "0    80000.0  0.0        4.0       3.0  24.000000    0.0    0.0    0.0    0.0   \n",
      "1    30000.0  1.0        4.0       3.0  28.000000    0.0    0.0    0.0    0.0   \n",
      "2   180000.0  0.0        3.0       0.0  44.000000    0.0    0.0   -1.0   -1.0   \n",
      "3    60000.0  1.0        0.0       3.0  35.511084    0.0    0.0    0.0    0.0   \n",
      "4   130000.0  0.0        4.0       3.0  25.000000    0.0    0.0    0.0    0.0   \n",
      "\n",
      "   PAY_5    ...     BILL_AMT3  BILL_AMT4  BILL_AMT5  BILL_AMT6  PAY_AMT1  \\\n",
      "0    0.0    ...       78321.0    73731.0    39643.0    39457.0    3503.0   \n",
      "1    0.0    ...       29155.0    25255.0    22001.0        0.0    5006.0   \n",
      "2   -1.0    ...         850.0        0.0     6881.0    10340.0       0.0   \n",
      "3    0.0    ...       38533.0    39639.0    39619.0    39140.0    2018.0   \n",
      "4    0.0    ...      114734.0   117823.0   120854.0   123904.0    4100.0   \n",
      "\n",
      "   PAY_AMT2  PAY_AMT3  PAY_AMT4  PAY_AMT5  PAY_AMT6  \n",
      "0    5001.0    2092.0    1218.0    1445.0     878.0  \n",
      "1    1244.0     851.0     955.0       0.0       0.0  \n",
      "2     850.0       0.0    6881.0   10340.0     182.0  \n",
      "3    1900.0    2000.0    1500.0    1900.0    2000.0  \n",
      "4    4200.0    5000.0    5000.0    5000.0   10700.0  \n",
      "\n",
      "[5 rows x 23 columns]\n",
      "   default\n",
      "0        0\n",
      "1        0\n",
      "2        0\n",
      "3        0\n",
      "4        0\n"
     ]
    }
   ],
   "source": [
    "print(X_train.head())\n",
    "print(y_train.head())"
   ]
  },
  {
   "cell_type": "code",
   "execution_count": 22,
   "metadata": {},
   "outputs": [],
   "source": [
    "from sklearn.preprocessing import MinMaxScaler\n",
    "min_max=MinMaxScaler()\n",
    "# Scaling down both train and test data set\n",
    "X_train_minmax=min_max.fit_transform(X_train)\n",
    "X_test_minmax=min_max.transform(X_test)"
   ]
  },
  {
   "cell_type": "code",
   "execution_count": 23,
   "metadata": {},
   "outputs": [
    {
     "name": "stdout",
     "output_type": "stream",
     "text": [
      "<class 'pandas.core.frame.DataFrame'>\n",
      "<class 'pandas.core.frame.DataFrame'>\n"
     ]
    }
   ],
   "source": [
    "X_train_minmax=pd.DataFrame(X_train_minmax,columns=X_train.columns)\n",
    "X_test_minmax=pd.DataFrame(X_test_minmax,columns=X_test.columns)\n",
    "print(type(X_train_minmax))\n",
    "print(type(X_test_minmax))"
   ]
  },
  {
   "cell_type": "code",
   "execution_count": 24,
   "metadata": {},
   "outputs": [],
   "source": [
    "X_train=X_train_minmax\n",
    "X_test=X_test_minmax"
   ]
  },
  {
   "cell_type": "code",
   "execution_count": 25,
   "metadata": {},
   "outputs": [
    {
     "name": "stderr",
     "output_type": "stream",
     "text": [
      "C:\\Users\\Lenovo\\Anaconda3\\lib\\site-packages\\sklearn\\ensemble\\forest.py:245: FutureWarning: The default value of n_estimators will change from 10 in version 0.20 to 100 in 0.22.\n",
      "  \"10 in version 0.20 to 100 in 0.22.\", FutureWarning)\n",
      "C:\\Users\\Lenovo\\Anaconda3\\lib\\site-packages\\ipykernel_launcher.py:3: DataConversionWarning: A column-vector y was passed when a 1d array was expected. Please change the shape of y to (n_samples,), for example using ravel().\n",
      "  This is separate from the ipykernel package so we can avoid doing imports until\n"
     ]
    },
    {
     "name": "stdout",
     "output_type": "stream",
     "text": [
      "[0.04169215 0.04768575 0.0394594  0.05377753 0.04082843 0.140785\n",
      " 0.09926739 0.04398771 0.04126138 0.0327346  0.02295224 0.04798196\n",
      " 0.03650396 0.03251259 0.02955541 0.03226424 0.03037692 0.0359347\n",
      " 0.0331121  0.02926849 0.0326418  0.02703085 0.02838538]\n"
     ]
    }
   ],
   "source": [
    "#Feature_selection\n",
    "model = RandomForestClassifier()\n",
    "model.fit(X_train, y_train)\n",
    "print(model.feature_importances_)"
   ]
  },
  {
   "cell_type": "code",
   "execution_count": 26,
   "metadata": {},
   "outputs": [
    {
     "name": "stdout",
     "output_type": "stream",
     "text": [
      "    Features  Importance_RandomForest\n",
      "0  LIMIT_BAL                 0.041692\n",
      "1        SEX                 0.047686\n",
      "2  EDUCATION                 0.039459\n",
      "3   MARRIAGE                 0.053778\n",
      "4        AGE                 0.040828\n",
      "After RandomForest\n"
     ]
    }
   ],
   "source": [
    "randomforest_df=pd.DataFrame(list(zip( X_train.columns, model.feature_importances_)),columns=['Features','Importance_RandomForest'])\n",
    "print(randomforest_df.head())\n",
    "print('After RandomForest')"
   ]
  },
  {
   "cell_type": "code",
   "execution_count": 27,
   "metadata": {},
   "outputs": [
    {
     "name": "stdout",
     "output_type": "stream",
     "text": [
      "     Features  Importance_RandomForest\n",
      "5       PAY_0                 0.140785\n",
      "6       PAY_2                 0.099267\n",
      "3    MARRIAGE                 0.053778\n",
      "11  BILL_AMT1                 0.047982\n",
      "1         SEX                 0.047686\n",
      "7       PAY_3                 0.043988\n",
      "0   LIMIT_BAL                 0.041692\n",
      "8       PAY_4                 0.041261\n",
      "4         AGE                 0.040828\n",
      "2   EDUCATION                 0.039459\n",
      "12  BILL_AMT2                 0.036504\n",
      "17   PAY_AMT1                 0.035935\n"
     ]
    }
   ],
   "source": [
    "randomforest_df=randomforest_df.sort_values('Importance_RandomForest',ascending=False)\n",
    "print(randomforest_df.head(12))"
   ]
  },
  {
   "cell_type": "code",
   "execution_count": 28,
   "metadata": {},
   "outputs": [
    {
     "name": "stdout",
     "output_type": "stream",
     "text": [
      "['PAY_0', 'PAY_2', 'MARRIAGE', 'BILL_AMT1', 'SEX', 'PAY_3', 'LIMIT_BAL', 'PAY_4', 'AGE', 'EDUCATION', 'BILL_AMT2', 'PAY_AMT1']\n"
     ]
    }
   ],
   "source": [
    "top_features= randomforest_df['Features'].head(12).tolist()\n",
    "print(top_features)"
   ]
  },
  {
   "cell_type": "code",
   "execution_count": 29,
   "metadata": {},
   "outputs": [],
   "source": [
    "X_train=X_train[top_features]\n",
    "X_test=X_test[top_features]"
   ]
  },
  {
   "cell_type": "markdown",
   "metadata": {},
   "source": [
    "# LOGISTIC REGRESSION"
   ]
  },
  {
   "cell_type": "code",
   "execution_count": 30,
   "metadata": {},
   "outputs": [
    {
     "name": "stderr",
     "output_type": "stream",
     "text": [
      "C:\\Users\\Lenovo\\Anaconda3\\lib\\site-packages\\sklearn\\linear_model\\logistic.py:432: FutureWarning: Default solver will be changed to 'lbfgs' in 0.22. Specify a solver to silence this warning.\n",
      "  FutureWarning)\n",
      "C:\\Users\\Lenovo\\Anaconda3\\lib\\site-packages\\sklearn\\utils\\validation.py:724: DataConversionWarning: A column-vector y was passed when a 1d array was expected. Please change the shape of y to (n_samples, ), for example using ravel().\n",
      "  y = column_or_1d(y, warn=True)\n"
     ]
    },
    {
     "name": "stdout",
     "output_type": "stream",
     "text": [
      "Accuracy 71.37 %\n",
      "roc_auc_score 0.6760988041821692\n"
     ]
    }
   ],
   "source": [
    "# Create instance of model\n",
    "lreg = LogisticRegression(random_state=42)\n",
    "# Pass training data into model\n",
    "lreg.fit(X_train, y_train)\n",
    "# Predict\n",
    "y_pred_lreg = lreg.predict(X_test)\n",
    "# Score It\n",
    "logreg_accuracy = round(accuracy_score(y_test, y_pred_lreg) * 100,2)\n",
    "print('Accuracy', logreg_accuracy,'%')\n",
    "print('roc_auc_score',roc_auc_score(y_test, y_pred_lreg))"
   ]
  },
  {
   "cell_type": "markdown",
   "metadata": {},
   "source": [
    "# KNN"
   ]
  },
  {
   "cell_type": "code",
   "execution_count": 32,
   "metadata": {},
   "outputs": [
    {
     "name": "stderr",
     "output_type": "stream",
     "text": [
      "C:\\Users\\nc4716\\AppData\\Local\\Continuum\\anaconda3\\lib\\site-packages\\ipykernel_launcher.py:4: DataConversionWarning: A column-vector y was passed when a 1d array was expected. Please change the shape of y to (n_samples, ), for example using ravel().\n",
      "  after removing the cwd from sys.path.\n"
     ]
    },
    {
     "name": "stdout",
     "output_type": "stream",
     "text": [
      "Accuracy 76.52 %\n",
      "roc_auc_score 0.6561553719830141\n"
     ]
    }
   ],
   "source": [
    "# Create instance of model\n",
    "knn = KNeighborsClassifier(n_neighbors = 5)\n",
    "# Fit to training data\n",
    "knn.fit(X_train,y_train)\n",
    "# Predict\n",
    "y_pred_knn = knn.predict(X_test)\n",
    "# Score It\n",
    "logreg_accuracy = round(accuracy_score(y_test, y_pred_knn) * 100,2)\n",
    "print('Accuracy', logreg_accuracy,'%')\n",
    "print('roc_auc_score',roc_auc_score(y_test, y_pred_knn))"
   ]
  },
  {
   "cell_type": "markdown",
   "metadata": {},
   "source": [
    "# DecisionTreeClassifier"
   ]
  },
  {
   "cell_type": "code",
   "execution_count": 33,
   "metadata": {},
   "outputs": [
    {
     "name": "stdout",
     "output_type": "stream",
     "text": [
      "Accuracy 73.03 %\n",
      "roc_auc_score 0.6234427483384468\n"
     ]
    }
   ],
   "source": [
    "# Create model object 35--Accuracy 85.68 % roc_auc_score 0.5404810754456927\n",
    "dtree = DecisionTreeClassifier(max_depth=35,random_state=42)\n",
    "# Fit to training sets\n",
    "dtree.fit(X_train,y_train)\n",
    "# Predict\n",
    "y_pred_dt = dtree.predict(X_test)\n",
    "# Score It\n",
    "logreg_accuracy = round(accuracy_score(y_test, y_pred_dt) * 100,2)\n",
    "print('Accuracy', logreg_accuracy,'%')\n",
    "print('roc_auc_score',roc_auc_score(y_test, y_pred_dt))"
   ]
  },
  {
   "cell_type": "markdown",
   "metadata": {},
   "source": [
    "# RANDOM FOREST"
   ]
  },
  {
   "cell_type": "code",
   "execution_count": 34,
   "metadata": {},
   "outputs": [
    {
     "name": "stderr",
     "output_type": "stream",
     "text": [
      "C:\\Users\\nc4716\\AppData\\Local\\Continuum\\anaconda3\\lib\\site-packages\\ipykernel_launcher.py:4: DataConversionWarning: A column-vector y was passed when a 1d array was expected. Please change the shape of y to (n_samples,), for example using ravel().\n",
      "  after removing the cwd from sys.path.\n"
     ]
    },
    {
     "name": "stdout",
     "output_type": "stream",
     "text": [
      "Accuracy 79.93 %\n",
      "roc_auc_score 0.6813139225330519\n"
     ]
    }
   ],
   "source": [
    "# Create model object 91.9 %,0.5028338420635398, esti-15, max_depth=25\n",
    "rfc = RandomForestClassifier(n_estimators=15,random_state=42,max_depth=5)\n",
    "# Fit model to training data\n",
    "rfc.fit(X_train,y_train)\n",
    "# Predict\n",
    "y_pred_rf = rfc.predict(X_test)\n",
    "# Score It\n",
    "logreg_accuracy = round(accuracy_score(y_test, y_pred_rf) * 100,2)\n",
    "print('Accuracy', logreg_accuracy,'%')\n",
    "print('roc_auc_score',roc_auc_score(y_test, y_pred_rf))"
   ]
  },
  {
   "cell_type": "markdown",
   "metadata": {},
   "source": [
    "# XGBClassifier"
   ]
  },
  {
   "cell_type": "code",
   "execution_count": 35,
   "metadata": {},
   "outputs": [
    {
     "name": "stderr",
     "output_type": "stream",
     "text": [
      "C:\\Users\\nc4716\\AppData\\Local\\Continuum\\anaconda3\\lib\\site-packages\\sklearn\\preprocessing\\label.py:219: DataConversionWarning: A column-vector y was passed when a 1d array was expected. Please change the shape of y to (n_samples, ), for example using ravel().\n",
      "  y = column_or_1d(y, warn=True)\n",
      "C:\\Users\\nc4716\\AppData\\Local\\Continuum\\anaconda3\\lib\\site-packages\\sklearn\\preprocessing\\label.py:252: DataConversionWarning: A column-vector y was passed when a 1d array was expected. Please change the shape of y to (n_samples, ), for example using ravel().\n",
      "  y = column_or_1d(y, warn=True)\n"
     ]
    },
    {
     "name": "stdout",
     "output_type": "stream",
     "text": [
      "Accuracy 81.67 %\n",
      "roc_auc_score 0.6595129273804438\n"
     ]
    }
   ],
   "source": [
    "from xgboost import XGBClassifier\n",
    "# Basic XGB classifier \n",
    "xgb_classifier = XGBClassifier(n_estimators=100,max_depth=3,learning_rate=0.1,random_state=42)\n",
    "xgb_classifier.fit(X_train,y_train)\n",
    "# Predict\n",
    "y_pred_xgb = xgb_classifier.predict(X_test)\n",
    "# Score It\n",
    "logreg_accuracy = round(accuracy_score(y_test, y_pred_xgb) * 100,2)\n",
    "print('Accuracy', logreg_accuracy,'%')\n",
    "print('roc_auc_score',roc_auc_score(y_test, y_pred_xgb))"
   ]
  },
  {
   "cell_type": "code",
   "execution_count": 36,
   "metadata": {},
   "outputs": [
    {
     "name": "stdout",
     "output_type": "stream",
     "text": [
      "Fitting 3 folds for each of 32 candidates, totalling 96 fits\n"
     ]
    },
    {
     "name": "stderr",
     "output_type": "stream",
     "text": [
      "C:\\Users\\nc4716\\AppData\\Local\\Continuum\\anaconda3\\lib\\site-packages\\sklearn\\model_selection\\_split.py:2053: FutureWarning: You should specify a value for 'cv' instead of relying on the default value. The default value will change from 3 to 5 in version 0.22.\n",
      "  warnings.warn(CV_WARNING, FutureWarning)\n",
      "[Parallel(n_jobs=1)]: Using backend SequentialBackend with 1 concurrent workers.\n",
      "[Parallel(n_jobs=1)]: Done  96 out of  96 | elapsed:  5.1min finished\n"
     ]
    },
    {
     "name": "stdout",
     "output_type": "stream",
     "text": [
      "{'max_depth': 20, 'n_estimators': 50}\n",
      "Accuracy 80.1 %\n",
      "roc_auc_score 0.6450991228350978\n"
     ]
    }
   ],
   "source": [
    "from sklearn.model_selection import GridSearchCV\n",
    "#Grid searching on above algo\n",
    "n_estimators = [5,10,15,20,25,50,75,100]\n",
    "#max_depth = [2,3,5,7,9,15,20,25,50,100]\n",
    "max_depth = [5,7,15,20]\n",
    "#min_child_weight = [4,5,6,7,8]\n",
    "min_child_weight = [4,5,6]\n",
    "\n",
    "# Create parameter grid\n",
    "#param_grid = {'n_neighbors ': [0.1,1, 10, 100, 1000]}\n",
    "param_grid1 = {\n",
    "    'n_estimators':n_estimators,\n",
    "    'max_depth':max_depth\n",
    "}\n",
    "#print(param_grid)\n",
    "# Import\n",
    "\n",
    "\n",
    "# Instantiate grid object\n",
    "grid = GridSearchCV(XGBClassifier(n_estimators=50,random_state=42,learning_rate=.1),param_grid1,scoring='roc_auc', refit = True, verbose = 1)#verbose is the text output describing the process\n",
    "\n",
    "# Fit to training data\n",
    "grid.fit(X_train,y_train.values.ravel())\n",
    "print(grid.best_params_)\n",
    "# Predict\n",
    "y_pred_grid_xgb = grid.predict(X_test)\n",
    "# Score It\n",
    "logreg_accuracy = round(accuracy_score(y_test, y_pred_grid_xgb) * 100,2)\n",
    "print('Accuracy', logreg_accuracy,'%')\n",
    "print('roc_auc_score',roc_auc_score(y_test, y_pred_grid_xgb))"
   ]
  },
  {
   "cell_type": "code",
   "execution_count": null,
   "metadata": {},
   "outputs": [],
   "source": []
  }
 ],
 "metadata": {
  "kernelspec": {
   "display_name": "Python 3",
   "language": "python",
   "name": "python3"
  },
  "language_info": {
   "codemirror_mode": {
    "name": "ipython",
    "version": 3
   },
   "file_extension": ".py",
   "mimetype": "text/x-python",
   "name": "python",
   "nbconvert_exporter": "python",
   "pygments_lexer": "ipython3",
   "version": "3.6.5"
  }
 },
 "nbformat": 4,
 "nbformat_minor": 2
}
